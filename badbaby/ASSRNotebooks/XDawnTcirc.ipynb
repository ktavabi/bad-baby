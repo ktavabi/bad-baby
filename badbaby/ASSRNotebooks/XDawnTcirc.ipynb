{
 "cells": [
  {
   "cell_type": "markdown",
   "metadata": {},
   "source": [
    "# XDawnTcirc"
   ]
  },
  {
   "cell_type": "markdown",
   "metadata": {},
   "source": [
    "## Compute within-subject Tcirc stat from XDAWN evoked averages"
   ]
  },
  {
   "cell_type": "code",
   "execution_count": 1,
   "metadata": {},
   "outputs": [],
   "source": [
    "dataPath = '/mnt/scratch/badbaby/tone/'"
   ]
  },
  {
   "cell_type": "markdown",
   "metadata": {},
   "source": [
    "###### Create a list of the existing ```bad\\*a``` paths from the list of ```bad\\*b``` paths"
   ]
  },
  {
   "cell_type": "code",
   "execution_count": 2,
   "metadata": {},
   "outputs": [],
   "source": [
    "from glob import glob\n",
    "from os.path import exists, basename"
   ]
  },
  {
   "cell_type": "code",
   "execution_count": 3,
   "metadata": {
    "scrolled": true
   },
   "outputs": [
    {
     "data": {
      "text/plain": [
       "True"
      ]
     },
     "execution_count": 3,
     "metadata": {},
     "output_type": "execute_result"
    }
   ],
   "source": [
    "bPaths = sorted(glob(dataPath + 'bad*b/epochs/*epo.fif')) # get the existing b's\n",
    "aPaths = [ p.replace('b/epochs','a/epochs') for p in bPaths ] # rename to create a's\n",
    "aPaths = [ p.replace('b-epo','a-epo') for p in aPaths ]\n",
    "aPaths = [ p for p in aPaths if exists(p) ] # cull to existing a's\n",
    "bPaths = [ p.replace('a/epochs','b/epochs') for p in aPaths ] # rename to create matching b's\n",
    "bPaths = [ p.replace('a-epo','b-epo') for p in bPaths ]\n",
    "epoPaths = aPaths + bPaths\n",
    "all([ exists(p) for p in epoPaths ]) # test whether all exist"
   ]
  },
  {
   "cell_type": "markdown",
   "metadata": {},
   "source": [
    "###### So, all of these are valid input arguments for epo2xdawn2tcirc.Epo2XDawn"
   ]
  },
  {
   "cell_type": "markdown",
   "metadata": {},
   "source": [
    "###### Now we import the necessary functions"
   ]
  },
  {
   "cell_type": "code",
   "execution_count": 9,
   "metadata": {
    "scrolled": true
   },
   "outputs": [
    {
     "name": "stdout",
     "output_type": "stream",
     "text": [
      "/home/pettetmw/Github/badbaby/badbaby\n"
     ]
    }
   ],
   "source": [
    "cd /home/pettetmw/Github/badbaby/badbaby"
   ]
  },
  {
   "cell_type": "code",
   "execution_count": 5,
   "metadata": {},
   "outputs": [],
   "source": [
    "import mne\n",
    "import python.epo2xdawn2tcirc as e2x"
   ]
  },
  {
   "cell_type": "code",
   "execution_count": 8,
   "metadata": {
    "scrolled": true
   },
   "outputs": [
    {
     "name": "stdout",
     "output_type": "stream",
     "text": [
      "Success processing All_100-sss_bad_116a-epo.fif\n",
      "Success processing All_100-sss_bad_117a-epo.fif\n",
      "Success processing All_100-sss_bad_119a-epo.fif\n",
      "Success processing All_100-sss_bad_120a-epo.fif\n",
      "Success processing All_100-sss_bad_122a-epo.fif\n",
      "Success processing All_100-sss_bad_124a-epo.fif\n",
      "Success processing All_100-sss_bad_127a-epo.fif\n",
      "Success processing All_100-sss_bad_128a-epo.fif\n",
      "Success processing All_100-sss_bad_129a-epo.fif\n",
      "Success processing All_100-sss_bad_130a-epo.fif\n",
      "Success processing All_100-sss_bad_131a-epo.fif\n",
      "Success processing All_100-sss_bad_133a-epo.fif\n",
      "Success processing All_100-sss_bad_134a-epo.fif\n",
      "Success processing All_100-sss_bad_208a-epo.fif\n",
      "Success processing All_100-sss_bad_211a-epo.fif\n",
      "Success processing All_100-sss_bad_215a-epo.fif\n",
      "Success processing All_100-sss_bad_220a-epo.fif\n",
      "Success processing All_100-sss_bad_224a-epo.fif\n",
      "Success processing All_100-sss_bad_225a-epo.fif\n",
      "Success processing All_100-sss_bad_226a-epo.fif\n",
      "Success processing All_100-sss_bad_231a-epo.fif\n",
      "Success processing All_100-sss_bad_232a-epo.fif\n",
      "Success processing All_100-sss_bad_301a-epo.fif\n",
      "Success processing All_100-sss_bad_304a-epo.fif\n",
      "Success processing All_100-sss_bad_309a-epo.fif\n",
      "Success processing All_100-sss_bad_310a-epo.fif\n",
      "Success processing All_100-sss_bad_312a-epo.fif\n",
      "Success processing All_100-sss_bad_314a-epo.fif\n",
      "Success processing All_100-sss_bad_318a-epo.fif\n",
      "Success processing All_100-sss_bad_319a-epo.fif\n",
      "Success processing All_100-sss_bad_320a-epo.fif\n",
      "Success processing All_100-sss_bad_923a-epo.fif\n",
      "Success processing All_100-sss_bad_925a-epo.fif\n",
      "Success processing All_100-sss_bad_116b-epo.fif\n",
      "Success processing All_100-sss_bad_117b-epo.fif\n",
      "Success processing All_100-sss_bad_119b-epo.fif\n",
      "Success processing All_100-sss_bad_120b-epo.fif\n",
      "Success processing All_100-sss_bad_122b-epo.fif\n",
      "Success processing All_100-sss_bad_124b-epo.fif\n",
      "Success processing All_100-sss_bad_127b-epo.fif\n",
      "Success processing All_100-sss_bad_128b-epo.fif\n",
      "Success processing All_100-sss_bad_129b-epo.fif\n",
      "Success processing All_100-sss_bad_130b-epo.fif\n",
      "Success processing All_100-sss_bad_131b-epo.fif\n",
      "Success processing All_100-sss_bad_133b-epo.fif\n",
      "Success processing All_100-sss_bad_134b-epo.fif\n",
      "Success processing All_100-sss_bad_208b-epo.fif\n",
      "Success processing All_100-sss_bad_211b-epo.fif\n",
      "Success processing All_100-sss_bad_215b-epo.fif\n",
      "Success processing All_100-sss_bad_220b-epo.fif\n",
      "Success processing All_100-sss_bad_224b-epo.fif\n",
      "Success processing All_100-sss_bad_225b-epo.fif\n",
      "Success processing All_100-sss_bad_226b-epo.fif\n",
      "Success processing All_100-sss_bad_231b-epo.fif\n",
      "Success processing All_100-sss_bad_232b-epo.fif\n",
      "Success processing All_100-sss_bad_301b-epo.fif\n",
      "Success processing All_100-sss_bad_304b-epo.fif\n",
      "Success processing All_100-sss_bad_309b-epo.fif\n",
      "Success processing All_100-sss_bad_310b-epo.fif\n",
      "Success processing All_100-sss_bad_312b-epo.fif\n",
      "Success processing All_100-sss_bad_314b-epo.fif\n",
      "Success processing All_100-sss_bad_318b-epo.fif\n",
      "Success processing All_100-sss_bad_319b-epo.fif\n",
      "Success processing All_100-sss_bad_320b-epo.fif\n",
      "Success processing All_100-sss_bad_923b-epo.fif\n",
      "Success processing All_100-sss_bad_925b-epo.fif\n"
     ]
    }
   ],
   "source": [
    "mne.set_log_level(verbose='CRITICAL')\n",
    "for epoPath in epoPaths:\n",
    "    try:\n",
    "        e2x.Epo2Xdawn(epoPath)\n",
    "        print ('Success processing ' + basename(epoPath) )\n",
    "    except:\n",
    "        print ('Error processing ' + basename(epoPath) )\n",
    "\n",
    "mne.set_log_level(verbose='INFO')"
   ]
  },
  {
   "cell_type": "markdown",
   "metadata": {},
   "source": [
    "#### Victory!"
   ]
  },
  {
   "cell_type": "code",
   "execution_count": null,
   "metadata": {},
   "outputs": [],
   "source": []
  }
 ],
 "metadata": {
  "kernelspec": {
   "display_name": "Python 3",
   "language": "python",
   "name": "python3"
  },
  "language_info": {
   "codemirror_mode": {
    "name": "ipython",
    "version": 3
   },
   "file_extension": ".py",
   "mimetype": "text/x-python",
   "name": "python",
   "nbconvert_exporter": "python",
   "pygments_lexer": "ipython3",
   "version": "3.6.8"
  }
 },
 "nbformat": 4,
 "nbformat_minor": 2
}
