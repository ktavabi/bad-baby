{
 "cells": [
  {
   "cell_type": "markdown",
   "metadata": {},
   "source": [
    "# Infant ASSR Phase Locking"
   ]
  },
  {
   "cell_type": "markdown",
   "metadata": {},
   "source": [
    "The following analysis pipeline visualizes ASSR phase locking for groups of infants at 2 and 6 months of age. The pipeline includes a one-time initial loop over infant Epoch files to create Time-Frequency Response (TFR) files. Subsequent execution of pipeline can skip this creation step and simply load these files to proceed. Whole-head average gradiometer TFR sequences are computed for each individual, and the age group TFR averages are visualized for power, inter-trial coherence (ITC), and T2circ. A table of whole-head average TFR stats for three frequencies (centered on the tone frequency) are exported in a tidy-format csv file. Pipeline computes average response time sequences for a set of seven frequency bands spaced 2 Hz apart, centered on the tone frequency, 40 Hz. The number of cycles used for Morlet TFR analysis are coerced to scale with freq s.t. all passbands have same time window duration.\n"
   ]
  },
  {
   "cell_type": "markdown",
   "metadata": {},
   "source": [
    "\n",
    "```\n",
    "epo.get_data().shape == (120, 306, 781)\n",
    "[ epo.tmin, epo.tmax ] == [ -0.2, 1.1 ]\n",
    "epo.time_as_index(0.0) == 120\n",
    "epo.info['sfreq'] == 600.0\n",
    "tfr_epo.data.shape == (120, 306, 16, 781) # complex-valued tf response\n",
    "pow_epo.data.shape == (120, 306, 16, 781) # power of  tfr_epo\n",
    "pow_evo.data.shape == (306, 16, 781) # average power over epochs\n",
    "itc_evo.data.shape == (306, 16, 781) # inter-trial coherence over epochs\n",
    "tcirc_evo.data.shape == (306, 16, 781) # T2circ over epochs\n",
    "```"
   ]
  },
  {
   "cell_type": "markdown",
   "metadata": {},
   "source": [
    "### Imports"
   ]
  },
  {
   "cell_type": "code",
   "execution_count": 4,
   "metadata": {},
   "outputs": [],
   "source": [
    "import os\n",
    "import numpy as np\n",
    "import pandas as pd\n",
    "\n",
    "from mne.time_frequency import tfr_morlet\n",
    "\n",
    "from itertools import product as iprod\n",
    "import matplotlib.pyplot as plt\n",
    "from scipy.stats import f as f_dist\n",
    "import mne\n",
    "from mne.externals.h5io import write_hdf5\n"
   ]
  },
  {
   "cell_type": "code",
   "execution_count": 2,
   "metadata": {},
   "outputs": [],
   "source": [
    "freqs = np.arange(34.0,48.0,2.0)\n",
    "n_cycles = freqs / 2. # Coerce n_cycles to same time window duration"
   ]
  },
  {
   "cell_type": "markdown",
   "metadata": {},
   "source": [
    "Loop over individual _subjects_ to compute time frequency representations as evoked objects.\n"
   ]
  },
  {
   "cell_type": "code",
   "execution_count": null,
   "metadata": {},
   "outputs": [],
   "source": [
    "#TODO compliance\n",
    "foo = list()  # container for trial spectral data\n",
    "for ss in picks:\n",
    "    eps = mne.read_epochs(eps_fname)\n",
    "    for output in ['complex', 'power']:\n",
    "        foo.append(tfr_morlet(eps, freqs=freqs, n_cycles=n_cycles, use_fft=True,\n",
    "                            return_itc=False, average=False, output='output'))\n",
    "    \n",
    "    # Evoked power and ITC\n",
    "    pow_evo, itc_evo = tfr_morlet( epo, freqs=freqs, n_cycles=n_cycles, use_fft=True,\n",
    "                            return_itc=True, average=True, output='power')\n",
    "    \n",
    "    mofft = np.mean(tfr_epo.data, axis=0) # Mean of FFT\n",
    "    # compute the mean of the variances along real and imaginary axes\n",
    "    vofft = np.mean( np.stack( ( np.var( np.real(tfr_epo.data), 0 ), np.var( np.imag(tfr_epo.data), 0 ) ) ), 0 )\n",
    "        numerator = abs(mofft);\n",
    "        denominator = np.sqrt( vofft / ( tNTrl - 1 ) )\n",
    "        tcirc = (numerator / denominator)**2\n",
    "        tcirc_evo = itc_evo.copy()\n",
    "        tcirc_evo.data = tcirc\n",
    "\n",
    "        # tuple of time-freq response names and variables to save\n",
    "        tfr =  tfr_suffixes, [ tfr_epo, pow_epo, pow_evo, itc_evo, tcirc_evo ]\n",
    "\n"
   ]
  },
  {
   "cell_type": "code",
   "execution_count": null,
   "metadata": {
    "collapsed": true
   },
   "outputs": [],
   "source": [
    "\n",
    "# list comprehension to gather epoch file paths from group \"a\" and \"b\"\n",
    "epops = [ sorted(glob(epop + 'bad*'+g+'/epochs/*epo.fif')) for g in ['a', 'b'] ] # get the existing a's and b's\n",
    "epops = [ epops[0][:3], epops[1][:3] ] # crop for quickie test\n",
    "\n",
    "for g in epops: # each group\n",
    "    for sidp in g: # each subject id path\n",
    "        sid = os.path.basename(sidp)[:-8] # subject id\n",
    "        \n",
    "        epo = mne.read_epochs(sidp)\n",
    "        tNTrl, tNCh, tNS = epo.get_data().shape\n",
    "\n",
    "        # complex EpochsTFR\n",
    "        tfr_epo = mne.time_frequency.tfr_morlet( epo, freqs=freqs, n_cycles=n_cycles, use_fft=True,\n",
    "                            return_itc=False, average=False, output='complex')\n",
    "\n",
    "        # power EpochsTFR\n",
    "        pow_epo = mne.time_frequency.tfr_morlet( epo, freqs=freqs, n_cycles=n_cycles, use_fft=True,\n",
    "                            return_itc=False, average=False, output='power')\n",
    "\n",
    "        # power and ITC AverageTFR\n",
    "        pow_evo, itc_evo = mne.time_frequency.tfr_morlet( epo, freqs=freqs, n_cycles=n_cycles, use_fft=True,\n",
    "                            return_itc=True, average=True, output='power')\n",
    "\n",
    "        mofft = np.mean( tfr_epo.data, axis=0 ) # Mean of FFT\n",
    "        # compute the mean of the variances along real and imaginary axis\n",
    "        vofft = np.mean( np.stack( ( np.var( np.real(tfr_epo.data), 0 ), np.var( np.imag(tfr_epo.data), 0 ) ) ), 0 )\n",
    "        numerator = abs(mofft);\n",
    "        denominator = np.sqrt( vofft / ( tNTrl - 1 ) )\n",
    "        tcirc = (numerator / denominator)**2\n",
    "        tcirc_evo = itc_evo.copy()\n",
    "        tcirc_evo.data = tcirc\n",
    "\n",
    "        # tuple of time-freq response names and variables to save\n",
    "        tfr =  tfr_suffixes, [ tfr_epo, pow_epo, pow_evo, itc_evo, tcirc_evo ]\n",
    "        # Loop to save\n",
    "        for iv,vn in enumerate(tfr[0]): # tfr[0] is the list of tfr variable names\n",
    "            tfrvp = tfrp + sid + '_' + vn + '_tfr.h5' # tfr variable path\n",
    "            tfr[1][iv].save(tfrvp,overwrite=True) # tfr[1] is the list of tfr object variables\n"
   ]
  },
  {
   "cell_type": "markdown",
   "metadata": {},
   "source": [
    "## Loops to read and visualize previously created TFR files\n",
    "If files already exist, pipeline can start with one of the three following TFR visualizations.  Each one specifies a set of three variables:\n",
    "```\n",
    "tfrevops = ... # list comprehension to gather tfr evo file paths from group \"a\" and \"b\"\n",
    "tfrevos = ... # AverageTFR objects read from each sid for each group\n",
    "tfrms = ... # means over sids for each group\n",
    "```"
   ]
  },
  {
   "cell_type": "markdown",
   "metadata": {},
   "source": [
    "### Power"
   ]
  },
  {
   "cell_type": "code",
   "execution_count": null,
   "metadata": {},
   "outputs": [],
   "source": [
    "tfrevops = [ sorted(glob(tfrp + 'All*'+g+'_pow-evo_tfr.h5')) for g in ['a', 'b'] ]\n",
    "tfrevos = [ [ mne.time_frequency.read_tfrs(sidp)[0] for sidp in g ] for g in tfrevops ]\n",
    "tfrms = [ np.mean( np.stack( [ s.data for s in g ] ), 0 ) for g in tfrevos ]\n"
   ]
  },
  {
   "cell_type": "code",
   "execution_count": null,
   "metadata": {},
   "outputs": [],
   "source": [
    "glabs = ['2mo', '6mo']\n",
    "for ig,g in enumerate(tfrms):\n",
    "    tfr = tfrevos[0][0].copy()\n",
    "    tfr.data = g\n",
    "    tfr.plot(picks='grad',combine='mean',title=glabs[ig]+', Power over gradiometers', vmin=0.0, vmax=3);\n",
    "    tfr.plot_topomap( ch_type='grad', fmin=38.0,fmax=42.0,tmin=0.5,tmax=1.0,sphere=1.0, vmin=0.0, vmax=3);"
   ]
  },
  {
   "cell_type": "markdown",
   "metadata": {},
   "source": [
    "### ITC"
   ]
  },
  {
   "cell_type": "code",
   "execution_count": null,
   "metadata": {},
   "outputs": [],
   "source": [
    "tfrevops = [ sorted(glob(tfrp + 'All*'+g+'_itc-evo_tfr.h5')) for g in ['a', 'b'] ]\n",
    "tfrevos = [ [ mne.time_frequency.read_tfrs(sidp)[0] for sidp in g ] for g in tfrevops ]\n",
    "tfrms = [ np.mean( np.stack( [ s.data for s in g ] ), 0 ) for g in tfrevos ]"
   ]
  },
  {
   "cell_type": "code",
   "execution_count": null,
   "metadata": {},
   "outputs": [],
   "source": [
    "glabs = ['2mo', '6mo'] \n",
    "for ig,g in enumerate(tfrms):\n",
    "    tfr = tfrevos[0][0].copy()\n",
    "    tfr.data = g\n",
    "    tfr.plot(picks='grad',combine='mean',title=glabs[ig]+', ITC over gradiometers', vmin=0.0, vmax=0.1);\n",
    "    tfr.plot_topomap( ch_type='grad', fmin=38.0,fmax=42.0,tmin=0.5,tmax=1.0,sphere=1.0, vmin=0.0, vmax=0.1);"
   ]
  },
  {
   "cell_type": "markdown",
   "metadata": {},
   "source": [
    "### T2circ"
   ]
  },
  {
   "cell_type": "code",
   "execution_count": null,
   "metadata": {
    "scrolled": true
   },
   "outputs": [],
   "source": [
    "tfrevops = [ sorted(glob(tfrp + 'All*'+g+'_t2c-evo_tfr.h5')) for g in ['a', 'b'] ]\n",
    "tfrevos = [ [ mne.time_frequency.read_tfrs(sidp)[0] for sidp in g ] for g in tfrevops ]\n",
    "tfrms = [ np.mean( np.stack( [ s.data for s in g ] ), 0 ) for g in tfrevos ]"
   ]
  },
  {
   "cell_type": "code",
   "execution_count": null,
   "metadata": {},
   "outputs": [],
   "source": [
    "glabs = ['2mo', '6mo']\n",
    "for ig,g in enumerate(tfrms):\n",
    "    tfr = tfrevos[0][0].copy()\n",
    "    tfr.data = g\n",
    "    tfr.plot(picks='grad',combine='mean',title=glabs[ig]+', T2circ over gradiometers', vmin=0.0, vmax=3);\n",
    "    tfr.plot_topomap( ch_type='grad', fmin=38.0,fmax=42.0,tmin=0.5,tmax=1.0,sphere=1.0, vmin=0.0, vmax=3);"
   ]
  },
  {
   "cell_type": "markdown",
   "metadata": {},
   "source": [
    "## Tabulate and save to tidy-format CSV"
   ]
  },
  {
   "cell_type": "code",
   "execution_count": null,
   "metadata": {
    "scrolled": false
   },
   "outputs": [],
   "source": [
    "# Helper to build pandas DataFrame by recursively nesting dict of categorical key columns\n",
    "dict2df = lambda d : pd.DataFrame.from_records(iprod(*d.values()),columns=d.keys())\n",
    "\n",
    "age2gid = { '2mo':'a', '6mo':'b' } # age-to-groupID ('a' and 'b' are parts of file names)\n",
    "tfr_vnms = [ 'pow', 'itc', 't2c' ] # time-freq response variable names (also part of file name)\n",
    "fmn,fmx,tmn,tmx = 38.,42.,.2,.8 # freq and time limits (Hz and Sec)\n",
    "\n",
    "pdfcat = lambda adf : pd.concat(adf,ignore_index=True)\n",
    "ttab = [] # the table to save\n",
    "for ia,age in enumerate(age2gid.keys()):\n",
    "    ttab.append([])\n",
    "    for tfr in tfr_vnms:\n",
    "        # hereafter, \"sid\" is subject id; aslo make sure that \"tfrp\" has been created above\n",
    "        sidps = sorted(glob(tfrp+'All*{}_{}-evo_tfr.h5'.format(age2gid[age],tfr))) # sid paths, ...\n",
    "            # e.g., /mnt/scratch/badbaby/pipe/TFRs/All_100-sss_bad_921b_t2c-evo_tfr.h5\n",
    "        # sidps = sidps[:4] # shorty version for quick testing\n",
    "        sids = [ os.path.basename(sidp)[-19:-15] for sidp in sidps ] # get id from full path\n",
    "        tfrevos = [ mne.time_frequency.read_tfrs(sidp)[0] for sidp in sidps ] # tfr evo objects read from each path\n",
    "        fps = [f >= fmn and f <= fmx for f in tfrevos[0].freqs] # frequency picks QC: should be [38.0, 40.0, 42.0]\n",
    "        tps = [ t >= tmn and t < tmx for t in tfrevos[0].times ] # time picks\n",
    "        freqs = tfrevos[0].freqs[fps] # the picked frequencies, for labeling\n",
    "        # for this tfr variable, calc mean over grads and tps for each sid... \n",
    "        tfrdvs = np.concatenate( [ np.mean(np.mean(atfr.copy().pick('grad').data[:,:,tps],-1),0)[fps]\n",
    "            for atfr in tfrevos ] ) # then stack the three fps from all the sids\n",
    "        # make dataframe key fields\n",
    "        df = dict2df( { 'age':[age], 'sid':sids, 'tfrvar':[tfr], 'freqs':freqs } )\n",
    "        df['tfrval'] = tfrdvs # add data field\n",
    "        ttab[ia].append(df) # append data frame to table\n",
    "    ttab[ia]=pd.concat(ttab[ia],ignore_index=True) # stack the dfs from the different tfr variables\n",
    "ttab=pd.concat(ttab,ignore_index=True) # stack the two age groups\n",
    "ttab.to_csv('tfr_stats1.csv') # save in csv format in local directory\n"
   ]
  },
  {
   "cell_type": "code",
   "execution_count": null,
   "metadata": {},
   "outputs": [],
   "source": []
  }
 ],
 "metadata": {
  "celltoolbar": "Raw Cell Format",
  "kernelspec": {
   "display_name": "Python 3",
   "language": "python",
   "name": "python3"
  },
  "language_info": {
   "codemirror_mode": {
    "name": "ipython",
    "version": 3
   },
   "file_extension": ".py",
   "mimetype": "text/x-python",
   "name": "python",
   "nbconvert_exporter": "python",
   "pygments_lexer": "ipython3",
   "version": "3.6.10"
  }
 },
 "nbformat": 4,
 "nbformat_minor": 2
}
