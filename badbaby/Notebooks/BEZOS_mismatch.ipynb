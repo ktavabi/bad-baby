{
 "cells": [
  {
   "cell_type": "markdown",
   "metadata": {},
   "source": [
    "<h3>Group level sensor domain analysis</h3>"
   ]
  },
  {
   "cell_type": "markdown",
   "metadata": {},
   "source": [
    "Imports"
   ]
  },
  {
   "cell_type": "code",
   "execution_count": null,
   "metadata": {
    "collapsed": true
   },
   "outputs": [],
   "source": [
    "import os\n",
    "from os import path as op\n",
    "\n",
    "import matplotlib.pyplot as plt\n",
    "import matplotlib.mlab as mlab\n",
    "\n",
    "import numpy as np\n",
    "\n",
    "import mne\n",
    "from mne import (read_evokeds, grand_average)\n",
    "from mne.stats import permutation_t_test\n",
    "from mne.viz import plot_evoked_topo\n",
    "\n",
    "from bad_baby.picks import ses\n",
    "mne.set_log_level(verbose='WARNING')\n",
    "%matplotlib inline"
   ]
  },
  {
   "cell_type": "markdown",
   "metadata": {},
   "source": [
    "Useful parameters"
   ]
  },
  {
   "cell_type": "code",
   "execution_count": null,
   "metadata": {
    "collapsed": false
   },
   "outputs": [],
   "source": [
    "lpf = 40\n",
    "analysis = 'Deviants'\n",
    "conditions = ['deviants']\n",
    "studydir = '/media/ktavabi/ALAYA/data/ilabs/bad-baby/mismatch/'\n",
    "fig_dir = op.join(studydir, 'figures')\n",
    "if not op.isdir(fig_dir):\n",
    "    os.mkdir(fig_dir)"
   ]
  },
  {
   "cell_type": "markdown",
   "metadata": {},
   "source": [
    "### Field maps of grand averaged evoked data\n",
    "Note here `mne.grand_average` assumes all eovoked datasets use an identical device to head transformation matrix, but since that is not the case the topological plots are distorted.\n",
    "\n",
    "Average evoked data with `mne.grand_average`"
   ]
  },
  {
   "cell_type": "code",
   "execution_count": null,
   "metadata": {
    "code_folding": [],
    "collapsed": false,
    "scrolled": true
   },
   "outputs": [],
   "source": [
    "evokeds = []\n",
    "subjects = ses['mismatch']['low']+ses['mismatch']['high']\n",
    "for si, subj in enumerate(subjects):\n",
    "    evoked_file = op.join(studydir, 'bad_%s' % subj, 'inverse',\n",
    "                          '%s_%d-sss_eq_bad_%s-ave.fif' % (analysis, lpf,\n",
    "                                                       subj))\n",
    "    evoked = read_evokeds(evoked_file, condition=conditions[0], baseline=(None,0))\n",
    "    if (evoked.info['sfreq']) != 600.0:\n",
    "        print('bad_%s - %d' % (subj, evoked.info['sfreq']))\n",
    "    evokeds.append(evoked.copy())\n",
    "    evoked.pick_types(meg='grad', eeg=False, stim=False, eog=True,\n",
    "                      include=[], exclude=[])\n",
    "    if subj == subjects[0]:\n",
    "        erf_data = np.zeros((len(subjects), len(evoked.info['chs']),\n",
    "                            len(evoked.times)))\n",
    "    erf_data[si] = evoked.data    \n",
    "\n",
    "grndavr = grand_average(evokeds)\n",
    "grndavr.save(op.join(studydir, '%s_%d_N%d_grand-ave.fif' % (analysis, lpf, len(subjects))))"
   ]
  },
  {
   "cell_type": "code",
   "execution_count": null,
   "metadata": {
    "code_folding": [],
    "collapsed": false
   },
   "outputs": [],
   "source": [
    "print('\\nN=%d' % len(subjects))\n",
    "hs = grndavr.plot_joint(ts_args={'gfp' : True}, topomap_args={'outlines' : 'head'})\n",
    "for h, ch_type in zip(hs, ['grad', 'mag']):\n",
    "    h.savefig(op.join(studydir, fig_dir, '%s_%d_%s_N%d-ave.png'\n",
    "                      % (conditions[0], lpf, ch_type, len(subjects))), dpi=240, format='png')"
   ]
  },
  {
   "cell_type": "markdown",
   "metadata": {},
   "source": [
    "### Sesnsor permutation t-test \n",
    "Test whether ERF signal across subjects significantly deviates from 0 using sensor permutation to map significantly responsive sensors in the interval 200-300ms post-stimulus. "
   ]
  },
  {
   "cell_type": "code",
   "execution_count": null,
   "metadata": {
    "code_folding": [],
    "collapsed": false
   },
   "outputs": [],
   "source": [
    "# Apply temporal mask to select time window\n",
    "times = grndavr.times\n",
    "temporal_mask = np.logical_and(.2 <= times, times <= .3)\n",
    "grndavr.pick_types(meg='grad', exclude=[])\n",
    "picks = picks = mne.pick_types(grndavr.info, meg='grad', eeg=False, stim=False, eog=False, \n",
    "                               include=[], exclude=[])\n",
    "data = np.mean(erf_data[:, :, temporal_mask], axis=2)\n",
    "# T-test\n",
    "T0, p_values, H0 = permutation_t_test(data, n_permutations=1000, n_jobs=18)\n",
    "# find significant sensors\n",
    "significant_sensors = picks[p_values <= .05]\n",
    "print(\"Number of significant sensors : %d\" % len(significant_sensors))\n",
    "print(\"Sensors names : MEG%s\" % significant_sensors)\n",
    "evoked = mne.EvokedArray(-np.log10(p_values)[:, np.newaxis],\n",
    "                         grndavr.info, tmin=0.)\n",
    "stats_picks = mne.pick_channels(grndavr.ch_names, significant_sensors)\n",
    "mask = p_values[:, np.newaxis] <= 0.05\n",
    "fig = evoked.plot_topomap(ch_type='grad', times=[0], scale=1, \n",
    "                          time_format=None, cmap='Reds', vmin=0., vmax=np.max,\n",
    "                          unit='-log10(p)', cbar_fmt='-%0.1f', mask=mask,\n",
    "                          size=3, show_names=lambda x: x[0:] + ' ' * 20)\n",
    "fig.savefig(op.join(fig_dir, '%s_%d_N%d_200-300ms_sensorSPM.png' % (analysis,\n",
    "                                                                   lpf,\n",
    "                                                                   len(subjects))))"
   ]
  },
  {
   "cell_type": "markdown",
   "metadata": {},
   "source": [
    "Plot histogram for group ERF data and observed t-values from permutation testing."
   ]
  },
  {
   "cell_type": "code",
   "execution_count": null,
   "metadata": {
    "collapsed": false
   },
   "outputs": [],
   "source": [
    "n, bins, patches = plt.hist(np.ravel(erf_data), 100, normed=1, facecolor='green', alpha=0.75)\n",
    "mean = np.mean(erf_data)\n",
    "std = np.std(erf_data)\n",
    "# add a 'best fit' line\n",
    "y = mlab.normpdf( bins, mean, std)\n",
    "l = plt.plot(bins, y, 'r--', linewidth=1)\n",
    "plt.xlabel('Amplitude')\n",
    "plt.ylabel('Probability')\n",
    "plt.grid(True)\n",
    "plt.title(r'$ERF\\ data:\\ M=%0.2f,\\ STD=%0.2f$' % (mean, \n",
    "                                                                 std))\n",
    "plt.show()\n",
    "\n",
    "n, bins, patches = plt.hist(np.ravel(T0), 100, normed=1, facecolor='green', alpha=0.75)\n",
    "plt.xlabel('T values')\n",
    "plt.ylabel('Probability')\n",
    "plt.grid(True)\n",
    "plt.title(r'$Biased\\ T-Values$')\n",
    "plt.show()"
   ]
  },
  {
   "cell_type": "markdown",
   "metadata": {},
   "source": [
    "### Proof of concept\n",
    "Copy ERF data and bias single sensor and plot data histogram. Next, re-run permutation sensor t-test and plot observed t-values examining effect of biased sensor."
   ]
  },
  {
   "cell_type": "code",
   "execution_count": null,
   "metadata": {
    "collapsed": false
   },
   "outputs": [],
   "source": [
    "arr = np.copy(erf_data)\n",
    "arr[:,[11],:]+=100e-13\n",
    "print(np.where(erf_data < arr))  # shows biased channel\n",
    "\n",
    "n, bins, patches = plt.hist(np.ravel(arr), 100, normed=1, facecolor='green', alpha=0.75)\n",
    "mean = np.mean(erf_data)\n",
    "std = np.std(erf_data)\n",
    "# add a 'best fit' line\n",
    "y = mlab.normpdf( bins, mean, std)\n",
    "l = plt.plot(bins, y, 'r--', linewidth=1)\n",
    "plt.xlabel('Amplitudes')\n",
    "plt.ylabel('Probability')\n",
    "plt.grid(True)\n",
    "plt.title(r'$Biased\\ ERF\\ data:\\ M=%0.2f,\\ STD=%0.2f$' % (mean, \n",
    "                                                                 std))\n",
    "plt.show()"
   ]
  },
  {
   "cell_type": "code",
   "execution_count": null,
   "metadata": {
    "collapsed": false
   },
   "outputs": [],
   "source": [
    "data = np.mean(arr[:, :, temporal_mask], axis=2)\n",
    "# T-test\n",
    "T0, p_values, H0 = permutation_t_test(data, n_permutations=1000, n_jobs=18)\n",
    "# find significant sensors\n",
    "significant_sensors = picks[p_values <= .05]\n",
    "print(\"Number of significant sensors : %d\" % len(significant_sensors))\n",
    "print(\"Sensors names : MEG%s\" % significant_sensors)\n",
    "evoked = mne.EvokedArray(-np.log10(p_values)[:, np.newaxis],\n",
    "                         grndavr.info, tmin=0.)\n",
    "stats_picks = mne.pick_channels(evoked.ch_names, significant_sensors)\n",
    "mask = p_values[:, np.newaxis] <= 0.05\n",
    "fig = evoked.plot_topomap(ch_type='grad', times=[0], scale=1, \n",
    "                          time_format=None, cmap='Reds', vmin=0., vmax=np.max,\n",
    "                          unit='-log10(p)', cbar_fmt='-%0.1f', mask=mask,\n",
    "                          size=3, show_names=lambda x: x[0:] + ' ' * 20)\n",
    "\n",
    "n, bins, patches = plt.hist(np.ravel(T0), 100, normed=1, facecolor='green', alpha=0.75)\n",
    "plt.xlabel('T values')\n",
    "plt.ylabel('Probability')\n",
    "plt.title(r'$Biased\\ T-Values$')\n",
    "plt.grid(True)\n",
    "plt.show()"
   ]
  },
  {
   "cell_type": "markdown",
   "metadata": {},
   "source": [
    "Test whether ERF signal across subjects significantly deviates from 0 using Bonferroni adjustment to map significantly response sensors in the interval 200-300ms post-stimulus onset."
   ]
  },
  {
   "cell_type": "code",
   "execution_count": null,
   "metadata": {
    "collapsed": false
   },
   "outputs": [],
   "source": [
    "from scipy.stats import ttest_1samp as ttest\n",
    "\n",
    "data = np.mean(erf_data[:, :, temporal_mask], axis=2)\n",
    "T0, p_values = ttest(data, 0, 0)\n",
    "# Bonferroni adjust\n",
    "d = np.sign(T0) * -np.log10(np.minimum(np.abs(p_values) * len(grndavr.info['chs']), 1))  # signed log10(p) \n",
    "\n",
    "n, bins, patches = plt.hist(d, 100, normed=1, facecolor='green', alpha=0.75)\n",
    "plt.xlabel('log10(p)')\n",
    "plt.ylabel('Probability')\n",
    "plt.title(r'$log10(p-values)$')\n",
    "plt.grid(True)\n",
    "plt.show()\n",
    "\n",
    "# find significant sensors\n",
    "significant_sensors = picks[np.abs(d) >= 1.3]\n",
    "print(\"Number of significant sensors : %d\" % len(significant_sensors))\n",
    "print(\"Sensors names : MEG%s\" % significant_sensors)\n",
    "evoked = mne.EvokedArray(-d[:, np.newaxis],\n",
    "                         grndavr.info, tmin=0.)\n",
    "stats_picks = mne.pick_channels(evoked.ch_names, significant_sensors)\n",
    "mask = np.abs(d[:, np.newaxis]) >= 1.3\n",
    "fig = evoked.plot_topomap(ch_type='grad', times=[0], scale=1, \n",
    "                          time_format=None, cmap='Reds', vmin=0., vmax=np.max,\n",
    "                          unit='-log10(p)', cbar_fmt='-%0.1f', mask=mask,\n",
    "                          size=3, show_names=lambda x: x[0:] + ' ' * 20)"
   ]
  },
  {
   "cell_type": "markdown",
   "metadata": {},
   "source": [
    "### Sesnsor permutation t-test \n",
    "For each individual ERF data test if the signal significantly deviates from 0 in the interval 200-300ms post-stimulus onset, i.e., reliability of evoked response."
   ]
  },
  {
   "cell_type": "markdown",
   "metadata": {},
   "source": [
    "## Groups\n",
    "### Low SES"
   ]
  },
  {
   "cell_type": "code",
   "execution_count": null,
   "metadata": {
    "collapsed": false
   },
   "outputs": [],
   "source": [
    "groups = {'low': mismatch_subjects['low_ses'],\n",
    "          'high': mismatch_subjects['high_ses']}"
   ]
  },
  {
   "cell_type": "code",
   "execution_count": null,
   "metadata": {
    "collapsed": false,
    "scrolled": true
   },
   "outputs": [],
   "source": [
    "evokeds = []\n",
    "subjects = groups['low']\n",
    "for si, subj in enumerate(subjects):\n",
    "    evoked_file = op.join(studydir, 'bad_%s' % subj, 'inverse',\n",
    "                          '%s_%d-sss_eq_bad_%s-ave.fif' % (analysis, lpf,\n",
    "                                                       subj))\n",
    "    evoked = read_evokeds(evoked_file, condition=conditions[0], baseline=(None,0))\n",
    "    if (evoked.info['sfreq']) != 600.0:\n",
    "        print('bad_%s - %d' % (subj, evoked.info['sfreq']))\n",
    "    evokeds.append(evoked.copy())\n",
    "    evoked.pick_types(meg='grad', eeg=False, stim=False, eog=True,\n",
    "                      include=[], exclude=[])\n",
    "    if subj == subjects[0]:\n",
    "        erf_data = np.zeros((len(subjects), len(evoked.info['chs']),\n",
    "                            len(evoked.times)))\n",
    "    erf_data[si] = evoked.data    \n",
    "\n",
    "grndavr_lowses = grand_average(evokeds)\n",
    "grndavr_lowses = grand_average(evokeds)\n",
    "grndavr_lowses.save(op.join(studydir,'%s_%d_N%d_lowses_grand-ave.fif' % (analysis, lpf, \n",
    "                                                                     len(subjects))))"
   ]
  },
  {
   "cell_type": "code",
   "execution_count": null,
   "metadata": {
    "code_folding": [],
    "collapsed": false,
    "scrolled": true
   },
   "outputs": [],
   "source": [
    "print('\\nn=%d' % len(groups['low']))\n",
    "ylim = {'mag': [-25, 25], 'grad': [-80, 80]}\n",
    "hs = grndavr_lowses.plot_joint(ts_args={'gfp' : True}, topomap_args={'outlines' : 'head'})\n",
    "for h, ch_type in zip(hs, ['grad', 'mag']):\n",
    "    h.savefig(op.join(studydir, fig_dir, '%s_%d_%s_lowses-N%d-ave.png'\n",
    "                      % (conditions[0], lpf, ch_type, len(groups['low']))), dpi=240, format='png')"
   ]
  },
  {
   "cell_type": "code",
   "execution_count": null,
   "metadata": {
    "code_folding": [],
    "collapsed": false
   },
   "outputs": [],
   "source": [
    "# Apply temporal mask to select time window\n",
    "times = grndavr_lowses.times\n",
    "temporal_mask = np.logical_and(.2 <= times, times <= .3)\n",
    "grndavr_lowses.pick_types(meg='grad', exclude=[])\n",
    "picks = picks = mne.pick_types(grndavr_lowses.info, meg='grad', eeg=False, stim=False, eog=False, \n",
    "                               include=[], exclude=[])\n",
    "assert erf_data.shape[0] == len(subjects)\n",
    "data = np.mean(erf_data[:, :, temporal_mask], axis=2)\n",
    "# T-test\n",
    "T0, p_values, H0 = permutation_t_test(data, n_permutations=1000, n_jobs=18)\n",
    "# find significant sensors\n",
    "significant_sensors = picks[p_values <= .05]\n",
    "print(\"Number of significant sensors : %d\" % len(significant_sensors))\n",
    "print(\"Sensors names : MEG%s\" % significant_sensors)\n",
    "evoked = mne.EvokedArray(-np.log10(p_values)[:, np.newaxis],\n",
    "                         grndavr_lowses.info, tmin=0.)\n",
    "stats_picks = mne.pick_channels(grndavr_lowses.ch_names, significant_sensors)\n",
    "mask = p_values[:, np.newaxis] <= 0.05\n",
    "fig = evoked.plot_topomap(ch_type='grad', times=[0], scale=1, \n",
    "                          time_format=None, cmap='Reds', vmin=0., vmax=np.max,\n",
    "                          unit='-log10(p)', cbar_fmt='-%0.1f', mask=mask,\n",
    "                          size=3, show_names=lambda x: x[0:] + ' ' * 20)\n",
    "fig.savefig(op.join(fig_dir, '%s_%d_N%d_lowses_200-300ms_sensorSPM.png' % (analysis,\n",
    "                                                                   lpf,\n",
    "                                                                   len(subjects))))\n",
    "signif_chs = {'lowses': [], 'highses': []}\n",
    "signif_chs['lowses'] = [grndavr_lowses.info['ch_names'][i] for i in significant_sensors]"
   ]
  },
  {
   "cell_type": "markdown",
   "metadata": {},
   "source": [
    "### High SES"
   ]
  },
  {
   "cell_type": "code",
   "execution_count": null,
   "metadata": {
    "collapsed": false,
    "scrolled": true
   },
   "outputs": [],
   "source": [
    "evokeds = []\n",
    "subjects = groups['high']\n",
    "for si, subj in enumerate(subjects):\n",
    "    evoked_file = op.join(studydir, 'bad_%s' % subj, 'inverse',\n",
    "                          '%s_%d-sss_eq_bad_%s-ave.fif' % (analysis, lpf,\n",
    "                                                       subj))\n",
    "    evoked = read_evokeds(evoked_file, condition=conditions[0], baseline=(None,0))\n",
    "    if (evoked.info['sfreq']) != 600.0:\n",
    "        print('bad_%s - %d' % (subj, evoked.info['sfreq']))\n",
    "    evokeds.append(evoked.copy())\n",
    "    evoked.pick_types(meg='grad', eeg=False, stim=False, eog=True,\n",
    "                      include=[], exclude=[])\n",
    "    if subj == subjects[0]:\n",
    "        erf_data = np.zeros((len(subjects), len(evoked.info['chs']),\n",
    "                            len(evoked.times)))\n",
    "    erf_data[si] = evoked.data    \n",
    "\n",
    "grndavr_highses = grand_average(evokeds)\n",
    "grndavr_highses = grand_average(evokeds)\n",
    "grndavr_highses.save(op.join(studydir,'%s_%d_N%d_highses_grand-ave.fif' % (analysis, lpf, \n",
    "                                                                     len(subjects))))\n",
    "signif_chs['highses'] = [grndavr_highses.info['ch_names'][i] for i in significant_sensors]"
   ]
  },
  {
   "cell_type": "code",
   "execution_count": null,
   "metadata": {
    "collapsed": false,
    "scrolled": true
   },
   "outputs": [],
   "source": [
    "print('\\nn=%d' % len(groups['high']))\n",
    "ylim = {'mag': [-25, 25], 'grad': [-80, 80]}\n",
    "hs = grndavr_highses.plot_joint(ts_args={'gfp' : True}, topomap_args={'outlines' : 'head'})\n",
    "for h, ch_type in zip(hs, ['grad', 'mag']):\n",
    "    h.savefig(op.join(studydir, fig_dir, '%s_%d_%s_highses-N%d-ave.png'\n",
    "                      % (conditions[0], lpf, ch_type, len(groups['low']))), dpi=240, format='png')"
   ]
  },
  {
   "cell_type": "code",
   "execution_count": null,
   "metadata": {
    "code_folding": [],
    "collapsed": false
   },
   "outputs": [],
   "source": [
    "# Apply temporal mask to select time window\n",
    "times = grndavr_highses.times\n",
    "temporal_mask = np.logical_and(.2 <= times, times <= .3)\n",
    "grndavr_highses.pick_types(meg='grad', exclude=[])\n",
    "picks = picks = mne.pick_types(grndavr_highses.info, meg='grad', eeg=False, stim=False, eog=False, \n",
    "                               include=[], exclude=[])\n",
    "assert erf_data.shape[0] == len(subjects)\n",
    "data = np.mean(erf_data[:, :, temporal_mask], axis=2)\n",
    "# T-test\n",
    "T0, p_values, H0 = permutation_t_test(data, n_permutations=1000, n_jobs=18)\n",
    "# find significant sensors\n",
    "significant_sensors = picks[p_values <= .05]\n",
    "print(\"Number of significant sensors : %d\" % len(significant_sensors))\n",
    "print(\"Sensors names : MEG%s\" % significant_sensors)\n",
    "evoked = mne.EvokedArray(-np.log10(p_values)[:, np.newaxis],\n",
    "                         grndavr_highses.info, tmin=0.)\n",
    "stats_picks = mne.pick_channels(grndavr_highses.ch_names, significant_sensors)\n",
    "mask = p_values[:, np.newaxis] <= 0.05\n",
    "fig = evoked.plot_topomap(ch_type='grad', times=[0], scale=1, \n",
    "                          time_format=None, cmap='Reds', vmin=0., vmax=np.max,\n",
    "                          unit='-log10(p)', cbar_fmt='-%0.1f', mask=mask,\n",
    "                          size=3, show_names=lambda x: x[0:] + ' ' * 20)\n",
    "fig.savefig(op.join(fig_dir, '%s_%d_N%d_highses_200-300ms_sensorSPM.png' % (analysis,\n",
    "                                                                   lpf,\n",
    "                                                                   len(subjects))))\n",
    "signif_chs['highses'] = [grndavr_highses.info['ch_names'][i] for i in significant_sensors]"
   ]
  },
  {
   "cell_type": "code",
   "execution_count": null,
   "metadata": {
    "code_folding": [],
    "collapsed": false,
    "scrolled": true
   },
   "outputs": [],
   "source": [
    "evokeds = []\n",
    "subjects = ses['mismatch']['young']\n",
    "for si, subj in enumerate(subjects):\n",
    "    evoked_file = op.join(studydir, 'bad_%s' % subj, 'inverse',\n",
    "                          '%s_%d-sss_eq_bad_%s-ave.fif' % (analysis, lpf,\n",
    "                                                       subj))\n",
    "    evoked = read_evokeds(evoked_file, condition=conditions[0], baseline=(None,0))\n",
    "    if (evoked.info['sfreq']) != 600.0:\n",
    "        print('bad_%s - %d' % (subj, evoked.info['sfreq']))\n",
    "    evokeds.append(evoked.copy())\n",
    "    evoked.pick_types(meg='grad', eeg=False, stim=False, eog=True,\n",
    "                      include=[], exclude=[])\n",
    "    if subj == subjects[0]:\n",
    "        erf_data = np.zeros((len(subjects), len(evoked.info['chs']),\n",
    "                            len(evoked.times)))\n",
    "    erf_data[si] = evoked.data    \n",
    "\n",
    "grndavr = grand_average(evokeds)\n",
    "#grndavr.save(op.join(studydir, '%s_%d_N%d_grand-ave.fif' % (analysis, lpf, len(subjects))))"
   ]
  },
  {
   "cell_type": "code",
   "execution_count": null,
   "metadata": {
    "code_folding": [],
    "collapsed": false
   },
   "outputs": [],
   "source": [
    "print('\\nN=%d' % len(subjects))\n",
    "hs = grndavr.plot_joint(ts_args={'gfp' : True}, topomap_args={'outlines' : 'head'})\n",
    "for h, ch_type in zip(hs, ['grad', 'mag']):\n",
    "    h.savefig(op.join(studydir, fig_dir, '%s_%d_%s_N%d_two-four_mns-ave.png'\n",
    "                      % (conditions[0], lpf, ch_type, len(subjects))), dpi=240, format='png')"
   ]
  },
  {
   "cell_type": "code",
   "execution_count": null,
   "metadata": {
    "code_folding": [],
    "collapsed": false
   },
   "outputs": [],
   "source": [
    "# Apply temporal mask to select time window\n",
    "times = grndavr.times\n",
    "temporal_mask = np.logical_and(.2 <= times, times <= .3)\n",
    "grndavr.pick_types(meg='grad', exclude=[])\n",
    "picks = picks = mne.pick_types(grndavr.info, meg='grad', eeg=False, stim=False, eog=False, \n",
    "                               include=[], exclude=[])\n",
    "data = np.mean(erf_data[:, :, temporal_mask], axis=2)\n",
    "# T-test\n",
    "T0, p_values, H0 = permutation_t_test(data, n_permutations=1000, n_jobs=18)\n",
    "# find significant sensors\n",
    "significant_sensors = picks[p_values <= .05]\n",
    "print(\"Number of significant sensors : %d\" % len(significant_sensors))\n",
    "print(\"Sensors names : MEG%s\" % significant_sensors)\n",
    "evoked = mne.EvokedArray(-np.log10(p_values)[:, np.newaxis],\n",
    "                         grndavr.info, tmin=0.)\n",
    "stats_picks = mne.pick_channels(grndavr.ch_names, significant_sensors)\n",
    "mask = p_values[:, np.newaxis] <= 0.05\n",
    "fig = evoked.plot_topomap(ch_type='grad', times=[0], scale=1, \n",
    "                          time_format=None, cmap='Reds', vmin=0., vmax=np.max,\n",
    "                          unit='-log10(p)', cbar_fmt='-%0.1f', mask=mask,\n",
    "                          size=3, show_names=lambda x: x[0:] + ' ' * 20)\n",
    "fig.savefig(op.join(fig_dir, '%s_%d_N%d_200-300ms_two-four_mns_sensorSPM.png' % (analysis,\n",
    "                                                                                 lpf,\n",
    "                                                                                 len(subjects))))"
   ]
  },
  {
   "cell_type": "code",
   "execution_count": null,
   "metadata": {
    "code_folding": [],
    "collapsed": false,
    "scrolled": true
   },
   "outputs": [],
   "source": [
    "evokeds = []\n",
    "subjects = ses['mismatch']['old']\n",
    "for si, subj in enumerate(subjects):\n",
    "    evoked_file = op.join(studydir, 'bad_%s' % subj, 'inverse',\n",
    "                          '%s_%d-sss_eq_bad_%s-ave.fif' % (analysis, lpf,\n",
    "                                                       subj))\n",
    "    evoked = read_evokeds(evoked_file, condition=conditions[0], baseline=(None,0))\n",
    "    if (evoked.info['sfreq']) != 600.0:\n",
    "        print('bad_%s - %d' % (subj, evoked.info['sfreq']))\n",
    "    evokeds.append(evoked.copy())\n",
    "    evoked.pick_types(meg='grad', eeg=False, stim=False, eog=True,\n",
    "                      include=[], exclude=[])\n",
    "    if subj == subjects[0]:\n",
    "        erf_data = np.zeros((len(subjects), len(evoked.info['chs']),\n",
    "                            len(evoked.times)))\n",
    "    erf_data[si] = evoked.data    \n",
    "\n",
    "grndavr = grand_average(evokeds)\n",
    "#grndavr.save(op.join(studydir, '%s_%d_N%d_grand-ave.fif' % (analysis, lpf, len(subjects))))"
   ]
  },
  {
   "cell_type": "code",
   "execution_count": null,
   "metadata": {
    "code_folding": [],
    "collapsed": false
   },
   "outputs": [],
   "source": [
    "print('\\nN=%d' % len(subjects))\n",
    "hs = grndavr.plot_joint(ts_args={'gfp' : True}, topomap_args={'outlines' : 'head'})\n",
    "for h, ch_type in zip(hs, ['grad', 'mag']):\n",
    "    h.savefig(op.join(studydir, fig_dir, '%s_%d_%s_N%d_four-six_mns-ave.png'\n",
    "                      % (conditions[0], lpf, ch_type, len(subjects))), dpi=240, format='png')"
   ]
  },
  {
   "cell_type": "code",
   "execution_count": null,
   "metadata": {
    "code_folding": [],
    "collapsed": false
   },
   "outputs": [],
   "source": [
    "# Apply temporal mask to select time window\n",
    "times = grndavr.times\n",
    "temporal_mask = np.logical_and(.2 <= times, times <= .3)\n",
    "grndavr.pick_types(meg='grad', exclude=[])\n",
    "picks = picks = mne.pick_types(grndavr.info, meg='grad', eeg=False, stim=False, eog=False, \n",
    "                               include=[], exclude=[])\n",
    "data = np.mean(erf_data[:, :, temporal_mask], axis=2)\n",
    "# T-test\n",
    "T0, p_values, H0 = permutation_t_test(data, n_permutations=1000, n_jobs=18)\n",
    "# find significant sensors\n",
    "significant_sensors = picks[p_values <= .05]\n",
    "print(\"Number of significant sensors : %d\" % len(significant_sensors))\n",
    "print(\"Sensors names : MEG%s\" % significant_sensors)\n",
    "evoked = mne.EvokedArray(-np.log10(p_values)[:, np.newaxis],\n",
    "                         grndavr.info, tmin=0.)\n",
    "stats_picks = mne.pick_channels(grndavr.ch_names, significant_sensors)\n",
    "mask = p_values[:, np.newaxis] <= 0.05\n",
    "fig = evoked.plot_topomap(ch_type='grad', times=[0], scale=1, \n",
    "                          time_format=None, cmap='Reds', vmin=0., vmax=np.max,\n",
    "                          unit='-log10(p)', cbar_fmt='-%0.1f', mask=mask,\n",
    "                          size=3, show_names=lambda x: x[0:] + ' ' * 20)\n",
    "fig.savefig(op.join(fig_dir, '%s_%d_N%d_200-300ms_four-six_mns_sensorSPM.png' % (analysis,\n",
    "                                                                                 lpf,\n",
    "                                                                                 len(subjects))))"
   ]
  },
  {
   "cell_type": "code",
   "execution_count": null,
   "metadata": {
    "collapsed": true
   },
   "outputs": [],
   "source": []
  }
 ],
 "metadata": {
  "hide_input": false,
  "kernelspec": {
   "display_name": "Python [conda env:mne]",
   "language": "python",
   "name": "conda-env-mne-py"
  },
  "language_info": {
   "codemirror_mode": {
    "name": "ipython",
    "version": 3
   },
   "file_extension": ".py",
   "mimetype": "text/x-python",
   "name": "python",
   "nbconvert_exporter": "python",
   "pygments_lexer": "ipython3",
   "version": "3.6.6"
  }
 },
 "nbformat": 4,
 "nbformat_minor": 2
}
