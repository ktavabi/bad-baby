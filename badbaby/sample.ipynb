{
 "metadata": {
  "language_info": {
   "codemirror_mode": {
    "name": "ipython",
    "version": 3
   },
   "file_extension": ".py",
   "mimetype": "text/x-python",
   "name": "python",
   "nbconvert_exporter": "python",
   "pygments_lexer": "ipython3",
   "version": "3.8.5-final"
  },
  "orig_nbformat": 2,
  "kernelspec": {
   "name": "python3",
   "display_name": "Python 3",
   "language": "python"
  }
 },
 "nbformat": 4,
 "nbformat_minor": 2,
 "cells": [
  {
   "cell_type": "code",
   "execution_count": 2,
   "metadata": {},
   "outputs": [],
   "source": [
    "from os import path as op\n",
    "import pandas as pd \n",
    "import janitor\n",
    "import pandas_flavor as pf\n",
    "from defaults import static"
   ]
  },
  {
   "cell_type": "code",
   "execution_count": 8,
   "metadata": {},
   "outputs": [
    {
     "output_type": "stream",
     "name": "stdout",
     "text": [
      "<class 'pandas.core.frame.DataFrame'>\nRangeIndex: 116 entries, 0 to 115\nData columns (total 32 columns):\n #   Column            Non-Null Count  Dtype         \n---  ------            --------------  -----         \n 0   subjId            116 non-null    object        \n 1   examDate          116 non-null    datetime64[ns]\n 2   badCh             116 non-null    object        \n 3   ecg               116 non-null    object        \n 4   samplingRate      114 non-null    float64       \n 5   acq               116 non-null    int64         \n 6   sss               116 non-null    int64         \n 7   rejection         116 non-null    int64         \n 8   epoching          116 non-null    int64         \n 9   complete          116 non-null    int64         \n 10  behavioral        116 non-null    int64         \n 11  simmInclude       116 non-null    int64         \n 12  ses               116 non-null    float64       \n 13  age               116 non-null    int64         \n 14  gender            115 non-null    object        \n 15  headSize          114 non-null    float64       \n 16  maternalEdu       115 non-null    float64       \n 17  maternalHscore    115 non-null    float64       \n 18  paternalEdu       114 non-null    float64       \n 19  paternalHscore    114 non-null    float64       \n 20  maternalEthno     115 non-null    object        \n 21  paternalEthno     114 non-null    object        \n 22  nSibs             116 non-null    int64         \n 23  sib1dob           57 non-null     datetime64[ns]\n 24  sib1gender        57 non-null     object        \n 25  sib2dob           18 non-null     datetime64[ns]\n 26  sib2gender        18 non-null     object        \n 27  sib3dob           5 non-null      datetime64[ns]\n 28  sib3gender        5 non-null      object        \n 29  birthWeight(lbs)  116 non-null    object        \n 30  birthWeight       116 non-null    int64         \n 31  notes             15 non-null     object        \ndtypes: datetime64[ns](4), float64(7), int64(10), object(11)\nmemory usage: 29.1+ KB\n"
     ]
    }
   ],
   "source": [
    "df = pd.read_excel(op.join(static, 'meg_covariates.xlsx'), sheet_name='mmn')\n",
    "df.info()"
   ]
  },
  {
   "cell_type": "code",
   "execution_count": 10,
   "metadata": {},
   "outputs": [
    {
     "output_type": "execute_result",
     "data": {
      "text/plain": [
       "  subjid   ses  age gender  headsize  maternaledu  paternaledu  \\\n",
       "0    101  41.0  108      F      40.0         17.0         16.0   \n",
       "1    102  22.0  115      F      42.0         16.0         15.0   \n",
       "2    103  45.0  112      M      43.0         14.0         12.0   \n",
       "3    104  46.5  119      M      42.0         19.0         14.0   \n",
       "4    105  43.0  113      F      42.0         19.0         14.0   \n",
       "\n",
       "                                       maternalethno  \\\n",
       "0                          White-Not Hispanic/Latino   \n",
       "1                          White-Not Hispanic/Latino   \n",
       "2   Asian/Pacific islander/white-not Hispanic/Latino   \n",
       "3  Asian/Pacific Islander and Hispanic/Latino and...   \n",
       "4                                    Hispanic/Latino   \n",
       "\n",
       "               paternalethno  \n",
       "0  White-Not Hispanic/Latino  \n",
       "1  White-Not Hispanic/Latino  \n",
       "2  White-Not Hispanic/Latino  \n",
       "3  White-Not Hispanic/Latino  \n",
       "4            Hispanic/Latino  "
      ],
      "text/html": "<div>\n<style scoped>\n    .dataframe tbody tr th:only-of-type {\n        vertical-align: middle;\n    }\n\n    .dataframe tbody tr th {\n        vertical-align: top;\n    }\n\n    .dataframe thead th {\n        text-align: right;\n    }\n</style>\n<table border=\"1\" class=\"dataframe\">\n  <thead>\n    <tr style=\"text-align: right;\">\n      <th></th>\n      <th>subjid</th>\n      <th>ses</th>\n      <th>age</th>\n      <th>gender</th>\n      <th>headsize</th>\n      <th>maternaledu</th>\n      <th>paternaledu</th>\n      <th>maternalethno</th>\n      <th>paternalethno</th>\n    </tr>\n  </thead>\n  <tbody>\n    <tr>\n      <th>0</th>\n      <td>101</td>\n      <td>41.0</td>\n      <td>108</td>\n      <td>F</td>\n      <td>40.0</td>\n      <td>17.0</td>\n      <td>16.0</td>\n      <td>White-Not Hispanic/Latino</td>\n      <td>White-Not Hispanic/Latino</td>\n    </tr>\n    <tr>\n      <th>1</th>\n      <td>102</td>\n      <td>22.0</td>\n      <td>115</td>\n      <td>F</td>\n      <td>42.0</td>\n      <td>16.0</td>\n      <td>15.0</td>\n      <td>White-Not Hispanic/Latino</td>\n      <td>White-Not Hispanic/Latino</td>\n    </tr>\n    <tr>\n      <th>2</th>\n      <td>103</td>\n      <td>45.0</td>\n      <td>112</td>\n      <td>M</td>\n      <td>43.0</td>\n      <td>14.0</td>\n      <td>12.0</td>\n      <td>Asian/Pacific islander/white-not Hispanic/Latino</td>\n      <td>White-Not Hispanic/Latino</td>\n    </tr>\n    <tr>\n      <th>3</th>\n      <td>104</td>\n      <td>46.5</td>\n      <td>119</td>\n      <td>M</td>\n      <td>42.0</td>\n      <td>19.0</td>\n      <td>14.0</td>\n      <td>Asian/Pacific Islander and Hispanic/Latino and...</td>\n      <td>White-Not Hispanic/Latino</td>\n    </tr>\n    <tr>\n      <th>4</th>\n      <td>105</td>\n      <td>43.0</td>\n      <td>113</td>\n      <td>F</td>\n      <td>42.0</td>\n      <td>19.0</td>\n      <td>14.0</td>\n      <td>Hispanic/Latino</td>\n      <td>Hispanic/Latino</td>\n    </tr>\n  </tbody>\n</table>\n</div>"
     },
     "metadata": {},
     "execution_count": 10
    }
   ],
   "source": [
    "covars = (\n",
    "    pd.read_excel(op.join(static, 'meg_covariates.xlsx'), sheet_name='mmn')\n",
    "    .clean_names()\n",
    "    .select_columns(['subjid', 'ses', 'age', 'gender', 'headsize',\n",
    "                    'maternaledu', 'paternaledu', 'maternalethno', 'paternalethno'])\n",
    "    .rename_columns({'subjid': 'id'})\n",
    "    .\n",
    "    \n",
    "    \n",
    ")\n",
    "covars.head()\n"
   ]
  },
  {
   "cell_type": "code",
   "execution_count": null,
   "metadata": {},
   "outputs": [],
   "source": []
  }
 ]
}